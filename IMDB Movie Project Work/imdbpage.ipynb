{
 "cells": [
  {
   "cell_type": "markdown",
   "metadata": {},
   "source": [
    "### 🎬 **Project Title**: Movie Rating Prediction with Python\n",
    "\n",
    "### **Objective**\n",
    "The aim of this project is simple: **predict the rating of a movie** using its main features like **genre, director, and actors**. We’ll analyze historical movie data to understand what factors play the biggest role in determining movie ratings, and then build a **machine learning model** to predict these ratings accurately.\n",
    "\n",
    "### **Why This Project?**\n",
    "In today’s movie world, ratings are everything – they guide audiences on what to watch and help studios understand what’s working. By predicting movie ratings, we can see what aspects (like a movie’s genre or its cast) tend to lead to higher or lower ratings. This project will not only improve our data science skills but also give us insight into the movie industry’s rating trends.\n",
    "\n",
    "### **Key Parts of the Project**\n",
    "\n",
    "1. **Data Analysis**: First, we’ll **explore the movie data**, checking features like genre, director, and actors. This will give us a good understanding of what the data looks like and which features might be important for ratings.\n",
    "\n",
    "2. **Data Preprocessing**: This is the step where we prepare the data to make it clean and useful. We’ll handle missing values, format the data correctly, and encode any text data (like the genre or director) so the machine learning model can understand it.\n",
    "\n",
    "3. **Feature Engineering**: Here, we’ll refine the data further by creating new features if needed or by transforming the current features to make them more effective for our prediction model.\n",
    "\n",
    "4. **Model Building with Regression**: Using machine learning, we’ll apply **regression techniques** – these are methods that help us make continuous predictions, like predicting ratings. We’ll test different models and choose the best one for accurate results.\n",
    "\n",
    "5. **Insights and Analysis**: Finally, we’ll review our results to see what factors most affect movie ratings. This is where we’ll understand trends and patterns, like if certain genres score higher or if specific directors or actors influence ratings.\n",
    "\n",
    "### **Expected Outcome**\n",
    "By the end of this project, we’ll have a working model that can estimate movie ratings based on features like genre and cast. Plus, we’ll gain valuable insights into what truly influences movie ratings – knowledge that’s valuable for anyone interested in data science, movies, or both!"
   ]
  },
  {
   "cell_type": "markdown",
   "metadata": {},
   "source": [
    "#### Before jumping into the actual model building, let’s first understand our dataset, bhaiyon aur behno! This step is super important because, just like in cricket, if you don’t understand the pitch (dataset), you can’t play the game (build the model) well. So, let’s take this step-by-step:"
   ]
  },
  {
   "cell_type": "markdown",
   "metadata": {},
   "source": [
    "In Python, libraries are like specialized toolkits. Each library has its own unique tools that make data analysis, visualization, and modeling easier. So, let’s import the key ones we’ll need for this project:"
   ]
  },
  {
   "cell_type": "code",
   "execution_count": 24,
   "metadata": {},
   "outputs": [],
   "source": [
    "import pandas as pd\n",
    "import numpy as np\n",
    "import seaborn as sns\n",
    "import matplotlib.pyplot as plt\n",
    "import warnings\n",
    "warnings.filterwarnings('ignore')"
   ]
  },
  {
   "cell_type": "markdown",
   "metadata": {},
   "source": [
    "### 🛠 Why Importing Libraries First is Important\n",
    "Importing libraries at the start helps us access all the functions we need without interruptions. It’s like setting up your workspace with all the tools in place – ready to tackle each step smoothly."
   ]
  },
  {
   "cell_type": "code",
   "execution_count": 7,
   "metadata": {},
   "outputs": [],
   "source": [
    "dataset_path = r'C:\\Users\\abhis\\Documents\\GitHub\\walmart sales forecasting\\MovieMind-Rating-Prediction\\Data\\IMDb Movies India.csv'\n",
    "movie_data = pd.read_csv(dataset_path, encoding='ISO-8859-1')"
   ]
  },
  {
   "cell_type": "markdown",
   "metadata": {},
   "source": [
    " Display the first 5 rows of the dataset to verify the data loaded correctly"
   ]
  },
  {
   "cell_type": "code",
   "execution_count": 8,
   "metadata": {},
   "outputs": [
    {
     "name": "stdout",
     "output_type": "stream",
     "text": [
      "First 5 Rows of the Movie Dataset:\n",
      "                                 Name    Year Duration            Genre  \\\n",
      "0                                         NaN      NaN            Drama   \n",
      "1  #Gadhvi (He thought he was Gandhi)  (2019)  109 min            Drama   \n",
      "2                         #Homecoming  (2021)   90 min   Drama, Musical   \n",
      "3                             #Yaaram  (2019)  110 min  Comedy, Romance   \n",
      "4                   ...And Once Again  (2010)  105 min            Drama   \n",
      "\n",
      "   Rating Votes            Director       Actor 1             Actor 2  \\\n",
      "0     NaN   NaN       J.S. Randhawa      Manmauji              Birbal   \n",
      "1     7.0     8       Gaurav Bakshi  Rasika Dugal      Vivek Ghamande   \n",
      "2     NaN   NaN  Soumyajit Majumdar  Sayani Gupta   Plabita Borthakur   \n",
      "3     4.4    35          Ovais Khan       Prateik          Ishita Raj   \n",
      "4     NaN   NaN        Amol Palekar  Rajat Kapoor  Rituparna Sengupta   \n",
      "\n",
      "           Actor 3  \n",
      "0  Rajendra Bhatia  \n",
      "1    Arvind Jangid  \n",
      "2       Roy Angana  \n",
      "3  Siddhant Kapoor  \n",
      "4      Antara Mali  \n"
     ]
    }
   ],
   "source": [
    "print(\"First 5 Rows of the Movie Dataset:\")\n",
    "print(movie_data.head())"
   ]
  },
  {
   "cell_type": "markdown",
   "metadata": {},
   "source": [
    "Get an overview of the dataset's structure and data types"
   ]
  },
  {
   "cell_type": "code",
   "execution_count": 9,
   "metadata": {},
   "outputs": [
    {
     "name": "stdout",
     "output_type": "stream",
     "text": [
      "\n",
      "Dataset Overview:\n",
      "<class 'pandas.core.frame.DataFrame'>\n",
      "RangeIndex: 15509 entries, 0 to 15508\n",
      "Data columns (total 10 columns):\n",
      " #   Column    Non-Null Count  Dtype  \n",
      "---  ------    --------------  -----  \n",
      " 0   Name      15509 non-null  object \n",
      " 1   Year      14981 non-null  object \n",
      " 2   Duration  7240 non-null   object \n",
      " 3   Genre     13632 non-null  object \n",
      " 4   Rating    7919 non-null   float64\n",
      " 5   Votes     7920 non-null   object \n",
      " 6   Director  14984 non-null  object \n",
      " 7   Actor 1   13892 non-null  object \n",
      " 8   Actor 2   13125 non-null  object \n",
      " 9   Actor 3   12365 non-null  object \n",
      "dtypes: float64(1), object(9)\n",
      "memory usage: 1.2+ MB\n",
      "None\n"
     ]
    }
   ],
   "source": [
    "print(\"\\nDataset Overview:\")\n",
    "print(movie_data.info())"
   ]
  },
  {
   "cell_type": "markdown",
   "metadata": {},
   "source": [
    "Show a statistical summary for numerical columns"
   ]
  },
  {
   "cell_type": "code",
   "execution_count": 10,
   "metadata": {},
   "outputs": [
    {
     "name": "stdout",
     "output_type": "stream",
     "text": [
      "\n",
      "Statistical Summary of Numerical Data:\n",
      "            Rating\n",
      "count  7919.000000\n",
      "mean      5.841621\n",
      "std       1.381777\n",
      "min       1.100000\n",
      "25%       4.900000\n",
      "50%       6.000000\n",
      "75%       6.800000\n",
      "max      10.000000\n"
     ]
    }
   ],
   "source": [
    "print(\"\\nStatistical Summary of Numerical Data:\")\n",
    "print(movie_data.describe())"
   ]
  },
  {
   "cell_type": "markdown",
   "metadata": {},
   "source": [
    "encoding issue while reading the CSV file. Sometimes, files use encodings other than UTF-8, which can cause this type of error in Pandas.\n",
    "\n",
    "### Explanation of the Fix\n",
    "\n",
    "- **Encoding Change (`encoding='ISO-8859-1'`)**:\n",
    "  - We specify `ISO-8859-1` encoding in `pd.read_csv()`. This encoding is often compatible with CSV files that contain special characters, particularly those from non-UTF-8 encoded sources.\n",
    "\n",
    "This should resolve the UnicodeDecodeError, allowing the data to load without issues."
   ]
  },
  {
   "cell_type": "markdown",
   "metadata": {},
   "source": [
    "We’ll focus on understanding our data in more detail, such as by examining column names, checking for any missing values, and identifying the data types of each column. "
   ]
  },
  {
   "cell_type": "markdown",
   "metadata": {},
   "source": [
    "Checking for any missing values in the dataset"
   ]
  },
  {
   "cell_type": "code",
   "execution_count": 11,
   "metadata": {},
   "outputs": [
    {
     "name": "stdout",
     "output_type": "stream",
     "text": [
      "\n",
      "Missing Values Count in Each Column:\n",
      "Name           0\n",
      "Year         528\n",
      "Duration    8269\n",
      "Genre       1877\n",
      "Rating      7590\n",
      "Votes       7589\n",
      "Director     525\n",
      "Actor 1     1617\n",
      "Actor 2     2384\n",
      "Actor 3     3144\n",
      "dtype: int64\n"
     ]
    }
   ],
   "source": [
    "print(\"\\nMissing Values Count in Each Column:\")\n",
    "print(movie_data.isnull().sum())"
   ]
  },
  {
   "cell_type": "markdown",
   "metadata": {},
   "source": [
    "Displaying the column names to understand what features we have"
   ]
  },
  {
   "cell_type": "code",
   "execution_count": 12,
   "metadata": {},
   "outputs": [
    {
     "name": "stdout",
     "output_type": "stream",
     "text": [
      "\n",
      "Column Names in the Dataset:\n",
      "Index(['Name', 'Year', 'Duration', 'Genre', 'Rating', 'Votes', 'Director',\n",
      "       'Actor 1', 'Actor 2', 'Actor 3'],\n",
      "      dtype='object')\n"
     ]
    }
   ],
   "source": [
    "print(\"\\nColumn Names in the Dataset:\")\n",
    "print(movie_data.columns)"
   ]
  },
  {
   "cell_type": "markdown",
   "metadata": {},
   "source": [
    "Getting the unique values in each categorical column (e.g., Genre, Director)"
   ]
  },
  {
   "cell_type": "code",
   "execution_count": 14,
   "metadata": {},
   "outputs": [
    {
     "name": "stdout",
     "output_type": "stream",
     "text": [
      "\n",
      "Unique Values in Key Categorical Columns:\n",
      "Genres: ['Drama' 'Drama, Musical' 'Comedy, Romance' 'Comedy, Drama, Musical'\n",
      " 'Drama, Romance, War' 'Documentary' 'Horror, Mystery, Thriller'\n",
      " 'Action, Crime, Thriller' 'Horror' 'Horror, Romance, Thriller']\n",
      "Directors: ['J.S. Randhawa' 'Gaurav Bakshi' 'Soumyajit Majumdar' 'Ovais Khan'\n",
      " 'Amol Palekar' 'Rahul Rawail' 'Shoojit Sircar' 'Anirban Datta'\n",
      " 'Allyson Patel' 'Biju Bhaskar Nair']\n",
      "Actor 1: ['Manmauji' 'Rasika Dugal' 'Sayani Gupta' 'Prateik' 'Rajat Kapoor'\n",
      " 'Bobby Deol' 'Jimmy Sheirgill' nan 'Yash Dave' 'Augustine']\n",
      "Actor 2: ['Birbal' 'Vivek Ghamande' 'Plabita Borthakur' 'Ishita Raj'\n",
      " 'Rituparna Sengupta' 'Aishwarya Rai Bachchan' 'Minissha Lamba' nan\n",
      " 'Muntazir Ahmad' 'Fathima Babu']\n",
      "Actor 3: ['Rajendra Bhatia' 'Arvind Jangid' 'Roy Angana' 'Siddhant Kapoor'\n",
      " 'Antara Mali' 'Shammi Kapoor' 'Yashpal Sharma' nan 'Kiran Bhatia' 'Byon']\n"
     ]
    }
   ],
   "source": [
    "# Correcting the actor columns to display unique values\n",
    "print(\"\\nUnique Values in Key Categorical Columns:\")\n",
    "print(\"Genres:\", movie_data['Genre'].unique()[:10])  # Display first 10 unique genres\n",
    "print(\"Directors:\", movie_data['Director'].unique()[:10])  # Display first 10 unique directors\n",
    "print(\"Actor 1:\", movie_data['Actor 1'].unique()[:10])  # Display first 10 unique actors\n",
    "print(\"Actor 2:\", movie_data['Actor 2'].unique()[:10])  # Display first 10 unique actors\n",
    "print(\"Actor 3:\", movie_data['Actor 3'].unique()[:10])  # Display first 10 unique actors"
   ]
  },
  {
   "cell_type": "markdown",
   "metadata": {},
   "source": [
    "-  Handling Missing Values: We need to decide how to handle the missing values in various columns. For instance, we might drop rows with missing Rating since it's our target variable, or we could fill missing Genre values with a placeholder.\n",
    "\n",
    "-  Converting Data Types: Some columns, like Year and Duration, may require conversion to appropriate formats (e.g., extracting numerical values).\n",
    "\n",
    "-  Feature Engineering: We might also want to extract additional features from existing columns. For example, we can extract the numeric value from Duration to create a separate column for duration in minutes."
   ]
  },
  {
   "cell_type": "code",
   "execution_count": 15,
   "metadata": {},
   "outputs": [],
   "source": [
    "cleaned_movie_data = movie_data.dropna(subset=['Rating'])"
   ]
  },
  {
   "cell_type": "code",
   "execution_count": 16,
   "metadata": {},
   "outputs": [],
   "source": [
    "cleaned_movie_data['Year'] = cleaned_movie_data['Year'].str.extract('(\\d+)').astype(int)"
   ]
  },
  {
   "cell_type": "code",
   "execution_count": 18,
   "metadata": {},
   "outputs": [],
   "source": [
    "cleaned_movie_data['Duration'] = cleaned_movie_data['Duration'].str.extract('(\\d+)')\n",
    "\n",
    "cleaned_movie_data['Duration'] = pd.to_numeric(cleaned_movie_data['Duration'], errors='coerce')"
   ]
  },
  {
   "cell_type": "code",
   "execution_count": 19,
   "metadata": {},
   "outputs": [],
   "source": [
    "cleaned_movie_data['Duration'].fillna(0, inplace=True)"
   ]
  },
  {
   "cell_type": "code",
   "execution_count": 20,
   "metadata": {},
   "outputs": [
    {
     "name": "stdout",
     "output_type": "stream",
     "text": [
      "   Duration\n",
      "1     109.0\n",
      "3     110.0\n",
      "5     147.0\n",
      "6     142.0\n",
      "8      82.0\n"
     ]
    }
   ],
   "source": [
    "print(cleaned_movie_data[['Duration']].head())"
   ]
  },
  {
   "cell_type": "code",
   "execution_count": 21,
   "metadata": {},
   "outputs": [
    {
     "name": "stdout",
     "output_type": "stream",
     "text": [
      "<class 'pandas.core.frame.DataFrame'>\n",
      "Index: 7919 entries, 1 to 15508\n",
      "Data columns (total 10 columns):\n",
      " #   Column    Non-Null Count  Dtype  \n",
      "---  ------    --------------  -----  \n",
      " 0   Name      7919 non-null   object \n",
      " 1   Year      7919 non-null   int32  \n",
      " 2   Duration  7919 non-null   float64\n",
      " 3   Genre     7817 non-null   object \n",
      " 4   Rating    7919 non-null   float64\n",
      " 5   Votes     7919 non-null   object \n",
      " 6   Director  7914 non-null   object \n",
      " 7   Actor 1   7794 non-null   object \n",
      " 8   Actor 2   7719 non-null   object \n",
      " 9   Actor 3   7627 non-null   object \n",
      "dtypes: float64(2), int32(1), object(7)\n",
      "memory usage: 649.6+ KB\n",
      "None\n"
     ]
    }
   ],
   "source": [
    "print(cleaned_movie_data.info())"
   ]
  },
  {
   "cell_type": "markdown",
   "metadata": {},
   "source": [
    "## Further Analysis or Data Manipulation"
   ]
  },
  {
   "cell_type": "code",
   "execution_count": 22,
   "metadata": {},
   "outputs": [
    {
     "name": "stdout",
     "output_type": "stream",
     "text": [
      "                            Genre    Rating    Duration\n",
      "0                          Action  5.092566   56.254197\n",
      "1               Action, Adventure  5.558333  105.791667\n",
      "2    Action, Adventure, Biography  7.800000  100.000000\n",
      "3       Action, Adventure, Comedy  5.610000  134.350000\n",
      "4        Action, Adventure, Crime  5.556250   83.250000\n",
      "..                            ...       ...         ...\n",
      "427              Thriller, Action  4.300000  129.000000\n",
      "428    Thriller, Musical, Mystery  7.100000  158.000000\n",
      "429             Thriller, Mystery  6.533333  102.333333\n",
      "430     Thriller, Mystery, Family  6.100000  142.000000\n",
      "431                           War  4.333333  133.666667\n",
      "\n",
      "[432 rows x 3 columns]\n"
     ]
    }
   ],
   "source": [
    "genre_summary = cleaned_movie_data.groupby('Genre').agg({'Rating': 'mean', 'Duration': 'mean'}).reset_index()\n",
    "print(genre_summary)"
   ]
  },
  {
   "cell_type": "code",
   "execution_count": 25,
   "metadata": {},
   "outputs": [
    {
     "data": {
      "image/png": "[encoded data removed]",
      "text/plain": [
       "<Figure size 640x480 with 1 Axes>"
      ]
     },
     "metadata": {},
     "output_type": "display_data"
    }
   ],
   "source": [
    "sns.histplot(cleaned_movie_data['Rating'].dropna(), bins=10, kde=True)\n",
    "plt.title('Distribution of Movie Ratings')\n",
    "plt.xlabel('Rating')\n",
    "plt.ylabel('Frequency')\n",
    "plt.show()"
   ]
  },
  {
   "cell_type": "code",
   "execution_count": 28,
   "metadata": {},
   "outputs": [
    {
     "data": {
      "image/png": "[encoded data removed]",
      "text/plain": [
       "<Figure size 800x600 with 2 Axes>"
      ]
     },
     "metadata": {},
     "output_type": "display_data"
    }
   ],
   "source": [
    "cleaned_movie_data['Votes'] = cleaned_movie_data['Votes'].str.replace(',', '').astype(float)\n",
    "cleaned_movie_data.dropna(subset=['Duration', 'Rating', 'Votes'], inplace=True)\n",
    "correlation_matrix = cleaned_movie_data[['Duration', 'Rating', 'Votes']].corr()\n",
    "plt.figure(figsize=(8, 6))\n",
    "sns.heatmap(correlation_matrix, annot=True, cmap='coolwarm', fmt=\".2f\")\n",
    "plt.title('Correlation Heatmap')\n",
    "plt.show()"
   ]
  },
  {
   "cell_type": "code",
   "execution_count": null,
   "metadata": {},
   "outputs": [],
   "source": []
  }
 ],
 "metadata": {
  "kernelspec": {
   "display_name": "Python 3",
   "language": "python",
   "name": "python3"
  },
  "language_info": {
   "codemirror_mode": {
    "name": "ipython",
    "version": 3
   },
   "file_extension": ".py",
   "mimetype": "text/x-python",
   "name": "python",
   "nbconvert_exporter": "python",
   "pygments_lexer": "ipython3",
   "version": "3.12.5"
  }
 },
 "nbformat": 4,
 "nbformat_minor": 2
}
